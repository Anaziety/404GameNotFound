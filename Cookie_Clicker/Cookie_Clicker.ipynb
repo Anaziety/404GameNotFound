{
 "cells": [
  {
   "cell_type": "code",
   "execution_count": 1,
   "id": "e169eb48",
   "metadata": {},
   "outputs": [
    {
     "name": "stdout",
     "output_type": "stream",
     "text": [
      "Collecting turtleNote: you may need to restart the kernel to use updated packages.\n",
      "\n",
      "  Downloading turtle-0.0.2.tar.gz (11 kB)\n",
      "  Preparing metadata (setup.py): started\n",
      "  Preparing metadata (setup.py): finished with status 'error'\n"
     ]
    },
    {
     "name": "stderr",
     "output_type": "stream",
     "text": [
      "  error: subprocess-exited-with-error\n",
      "  \n",
      "  python setup.py egg_info did not run successfully.\n",
      "  exit code: 1\n",
      "  \n",
      "  [7 lines of output]\n",
      "  Traceback (most recent call last):\n",
      "    File \"<string>\", line 2, in <module>\n",
      "    File \"<pip-setuptools-caller>\", line 34, in <module>\n",
      "    File \"C:\\Users\\HP\\AppData\\Local\\Temp\\pip-install-n0zhxlc8\\turtle_4c3cc897a9cf4474b522df85d83a78e8\\setup.py\", line 40\n",
      "      except ValueError, ve:\n",
      "                       ^\n",
      "  SyntaxError: invalid syntax\n",
      "  [end of output]\n",
      "  \n",
      "  note: This error originates from a subprocess, and is likely not a problem with pip.\n",
      "error: metadata-generation-failed\n",
      "\n",
      "Encountered error while generating package metadata.\n",
      "\n",
      "See above for output.\n",
      "\n",
      "note: This is an issue with the package mentioned above, not pip.\n",
      "hint: See above for details.\n"
     ]
    }
   ],
   "source": [
    "pip install turtle"
   ]
  },
  {
   "cell_type": "code",
   "execution_count": 1,
   "id": "48a8d2b4",
   "metadata": {},
   "outputs": [],
   "source": [
    "#Cookie Clicker Game\n",
    "import turtle\n",
    "\n",
    "#To make a window for Game\n",
    "window = turtle.Screen()\n",
    "window.title(\"Cookie Clicker by Anaziety\")\n",
    "window.bgcolor(\"lightblue\")\n",
    "\n",
    "#Creating Cookie\n",
    "window.register_shape(r\"C:\\Users\\HP\\Desktop\\Python_Games\\cookie.gif\")\n",
    "cookie = turtle.Turtle()\n",
    "cookie.shape(r\"C:\\Users\\HP\\Desktop\\Python_Games\\cookie.gif\")\n",
    "cookie.speed(0)\n",
    "\n",
    "#Clicks Count\n",
    "clicks = 0\n",
    "\n",
    "#Creating Cursor\n",
    "pen = turtle.Turtle()\n",
    "pen.speed(0)\n",
    "pen.color('white')\n",
    "pen.penup()\n",
    "pen.hideturtle()\n",
    "pen.goto(0,200)\n",
    "pen.write(f'Clicks: {clicks}',align='center', font = ('Arial', 32, 'normal'))\n",
    "\n",
    "def clicked(x,y):\n",
    "    global clicks\n",
    "    clicks +=1\n",
    "    pen.clear()\n",
    "    pen.write(f'Clicks: {clicks}',align='center', font = ('Arial', 32, 'normal'))\n",
    "cookie.onclick(clicked)\n",
    "    \n",
    "window.mainloop()"
   ]
  },
  {
   "cell_type": "code",
   "execution_count": null,
   "id": "6fbb8d43",
   "metadata": {},
   "outputs": [],
   "source": []
  }
 ],
 "metadata": {
  "kernelspec": {
   "display_name": "Virtual_for_MRCNN",
   "language": "python",
   "name": "virtual_for_mrcnn"
  },
  "language_info": {
   "codemirror_mode": {
    "name": "ipython",
    "version": 3
   },
   "file_extension": ".py",
   "mimetype": "text/x-python",
   "name": "python",
   "nbconvert_exporter": "python",
   "pygments_lexer": "ipython3",
   "version": "3.8.17"
  }
 },
 "nbformat": 4,
 "nbformat_minor": 5
}
